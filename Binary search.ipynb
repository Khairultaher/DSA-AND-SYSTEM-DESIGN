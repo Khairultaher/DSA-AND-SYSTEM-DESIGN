{
 "cells": [
  {
   "cell_type": "code",
   "execution_count": 2,
   "metadata": {},
   "outputs": [],
   "source": [
    "%config IPCompleter.greedy=True"
   ]
  },
  {
   "cell_type": "code",
   "execution_count": 47,
   "metadata": {},
   "outputs": [],
   "source": [
    "def binarySearch(arr, target):\n",
    "    start = 0; end = len(arr) - 1;\n",
    "    while ( start <= end):\n",
    "        mid = start + (end - start)//2\n",
    "        # print(mid)\n",
    "        if (arr[mid] > target):\n",
    "            end = mid - 1\n",
    "        elif (arr[mid] < target):\n",
    "            start = mid + 1\n",
    "        else :\n",
    "            return arr[mid]\n",
    "    \n",
    "    return -1"
   ]
  },
  {
   "cell_type": "code",
   "execution_count": 48,
   "metadata": {},
   "outputs": [
    {
     "data": {
      "text/plain": [
       "9"
      ]
     },
     "execution_count": 48,
     "metadata": {},
     "output_type": "execute_result"
    }
   ],
   "source": [
    "arr = [1,3,4,5,6,7,8,9]\n",
    "#target = 7\n",
    "#print(arr[0])\n",
    "binarySearch(arr, 9)"
   ]
  },
  {
   "cell_type": "markdown",
   "metadata": {},
   "source": [
    "#### Duplicate : Find first occurence of target"
   ]
  },
  {
   "cell_type": "code",
   "execution_count": 4,
   "metadata": {},
   "outputs": [],
   "source": [
    "def binarySearch2(arr, target):\n",
    "    start = 0; end = len(arr) - 1;\n",
    "    while ( start <= end):\n",
    "        mid = start + (end - start)//2\n",
    "        # print(mid)\n",
    "        if (arr[mid] > target or (arr[mid] == target and arr[mid] > 0 and arr[mid-1] == target)):\n",
    "            end = mid - 1\n",
    "        elif (arr[mid] < target):\n",
    "            start = mid + 1\n",
    "        else :\n",
    "            return arr[mid]\n",
    "    \n",
    "    return -1"
   ]
  },
  {
   "cell_type": "code",
   "execution_count": 6,
   "metadata": {},
   "outputs": [
    {
     "data": {
      "text/plain": [
       "2"
      ]
     },
     "execution_count": 6,
     "metadata": {},
     "output_type": "execute_result"
    }
   ],
   "source": [
    "arr = [1,2,2,3,4,5,6,7,8,9]\n",
    "binarySearch2(arr, 2)"
   ]
  },
  {
   "cell_type": "markdown",
   "metadata": {},
   "source": [
    "#### Record and move on: Find element closest to the target"
   ]
  },
  {
   "cell_type": "markdown",
   "metadata": {},
   "source": [
    "def binarySearch3(arr, target):\n",
    "    start = 0; end = len(arr) - 1;\n",
    "    while ( start <= end):\n",
    "        mid = start + (end - start)//2\n",
    "        # print(mid)\n",
    "        if (arr[mid] > target):\n",
    "            end = mid - 1\n",
    "        elif (arr[mid] < target):\n",
    "            start = mid + 1\n",
    "        else :\n",
    "            return arr[mid]\n",
    "    \n",
    "    return -1"
   ]
  }
 ],
 "metadata": {
  "kernelspec": {
   "display_name": "Python 3",
   "language": "python",
   "name": "python3"
  },
  "language_info": {
   "codemirror_mode": {
    "name": "ipython",
    "version": 3
   },
   "file_extension": ".py",
   "mimetype": "text/x-python",
   "name": "python",
   "nbconvert_exporter": "python",
   "pygments_lexer": "ipython3",
   "version": "3.7.0"
  }
 },
 "nbformat": 4,
 "nbformat_minor": 2
}
